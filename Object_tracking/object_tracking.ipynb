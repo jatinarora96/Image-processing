{
 "cells": [
  {
   "cell_type": "markdown",
   "metadata": {},
   "source": [
    "# Camshift "
   ]
  },
  {
   "cell_type": "code",
   "execution_count": 1,
   "metadata": {},
   "outputs": [],
   "source": [
    "import numpy as np \n",
    "import cv2\n",
    "  \n",
    "# Read the input video \n",
    "cap = cv2.VideoCapture('Input.mp4') \n",
    "frame = None\n",
    "frame_width = int(cap.get(3)) \n",
    "frame_height = int(cap.get(4)) \n",
    "size = (frame_width, frame_height)\n",
    "ret, frame = cap.read()\n",
    "img = cv2.imread('object.png')\n",
    "# Getting the coordinates\n",
    "x = 70\n",
    "y = 200\n",
    "width = 260 - x\n",
    "height = 510 - y\n",
    "track_window = (x, y, width, height) \n",
    "result = cv2.VideoWriter('Output.avi', cv2.VideoWriter_fourcc(*'MJPG'), 10, size)\n",
    "if frame is not None:\n",
    "    # To draw rectangle\n",
    "    cv2.rectangle(frame, (y + height, y + height), (y, y), (0, 255, 0), 0)\n",
    "    # Getting the region of Interest\n",
    "    roi = frame[y:y + height, x:x + width] \n",
    "    # convert ROI from BGR to HSV format \n",
    "    hsv_roi = cv2.cvtColor(roi, cv2.COLOR_BGR2HSV) \n",
    "    # Obtaining mask \n",
    "    mask = cv2.inRange(hsv_roi, np.array((0., 60., 32.)), np.array((180., 255., 255))) \n",
    "    # Getting the histogram for ROI\n",
    "    roi_hist = cv2.calcHist([hsv_roi], [0], mask, [180], [0, 180])\n",
    "    cv2.normalize(roi_hist, roi_hist, 0, 255, cv2.NORM_MINMAX) \n",
    "    # Termination criteria,  \n",
    "    # either 15 iteration or move by atleast 2 pt \n",
    "    term_crit = ( cv2.TERM_CRITERIA_EPS | cv2.TERM_CRITERIA_COUNT, 5, 1) \n",
    "    while(1):   \n",
    "        ret, frame = cap.read()  \n",
    "    # Displaying the original video\n",
    "        cv2.imshow('Original', frame) \n",
    "        ret1, frame1 = cv2.threshold(frame, 180, 155, cv2.THRESH_TOZERO_INV) \n",
    "        hsv = cv2.cvtColor(frame1,cv2.COLOR_BGR2HSV) \n",
    "        dst = cv2.calcBackProject([hsv], [0], roi_hist, [0, 180], 1) \n",
    "    # Applying Camshift\n",
    "        ret2, track_window = cv2.CamShift(dst, track_window, term_crit) \n",
    "  \n",
    "    # Inseting the rectange on the image\n",
    "        pts = cv2.boxPoints(ret2)  \n",
    "        pts = np.int0(pts)  \n",
    "        Result = cv2.polylines(frame, [pts], True,(255, 255, 0), 2) \n",
    "    # Displaying the Final video\n",
    "    \n",
    "        cv2.imshow('Final', Result) \n",
    "        result.write(frame)\n",
    "    # Press ESC to stop \n",
    "        k = cv2.waitKey(20) & 0xff\n",
    "        if k == 27: \n",
    "            break\n",
    "else:\n",
    "    print(\"Not able to open video\")\n",
    "# Releasing the cap object \n",
    "cap.release() \n",
    "result.release() \n",
    "# closing all opened windows \n",
    "cv2.destroyAllWindows() "
   ]
  }
 ],
 "metadata": {
  "kernelspec": {
   "display_name": "Python 3",
   "language": "python",
   "name": "python3"
  },
  "language_info": {
   "codemirror_mode": {
    "name": "ipython",
    "version": 3
   },
   "file_extension": ".py",
   "mimetype": "text/x-python",
   "name": "python",
   "nbconvert_exporter": "python",
   "pygments_lexer": "ipython3",
   "version": "3.8.5"
  }
 },
 "nbformat": 4,
 "nbformat_minor": 4
}
